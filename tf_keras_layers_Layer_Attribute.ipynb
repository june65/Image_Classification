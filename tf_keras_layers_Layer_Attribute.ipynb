{
  "nbformat": 4,
  "nbformat_minor": 0,
  "metadata": {
    "colab": {
      "name": "tf.keras.layers.Layer_Attribute",
      "provenance": [],
      "collapsed_sections": [],
      "authorship_tag": "ABX9TyPufcMcxqG1qmFShFLuPXOp",
      "include_colab_link": true
    },
    "kernelspec": {
      "name": "python3",
      "display_name": "Python 3"
    },
    "language_info": {
      "name": "python"
    }
  },
  "cells": [
    {
      "cell_type": "markdown",
      "metadata": {
        "id": "view-in-github",
        "colab_type": "text"
      },
      "source": [
        "<a href=\"https://colab.research.google.com/github/june65/Image_Classification/blob/main/tf_keras_layers_Layer_Attribute.ipynb\" target=\"_parent\"><img src=\"https://colab.research.google.com/assets/colab-badge.svg\" alt=\"Open In Colab\"/></a>"
      ]
    },
    {
      "cell_type": "code",
      "execution_count": 3,
      "metadata": {
        "colab": {
          "base_uri": "https://localhost:8080/"
        },
        "id": "xHEQ_xeZFzOm",
        "outputId": "a7d3254a-7538-4e6d-97ec-9e5b5cded0a8"
      },
      "outputs": [
        {
          "output_type": "stream",
          "name": "stdout",
          "text": [
            "input_2 float32\n",
            "dense_2 float32\n",
            "dense_3 float32\n"
          ]
        }
      ],
      "source": [
        "import tensorflow as tf\n",
        "\n",
        "tf.random.set_seed(0)\n",
        "\n",
        "\n",
        "# 1. 뉴런층 만들기\n",
        "input_layer = tf.keras.layers.InputLayer(input_shape=(3,))\n",
        "hidden_layer = tf.keras.layers.Dense(units=4, activation='relu')\n",
        "output_layer = tf.keras.layers.Dense(units=2, activation='softmax')\n",
        "\n",
        "\n",
        "# 2. 모델 구성하기\n",
        "model = tf.keras.Sequential([\n",
        "    input_layer,\n",
        "    hidden_layer,\n",
        "    output_layer\n",
        "    ])\n",
        "\n",
        "\n",
        "# 3. 모델 컴파일하기\n",
        "model.compile(loss='mse', optimizer='Adam')\n",
        "\n",
        "\n",
        "# 4. 뉴런층의 이름과 자료형\n",
        "print(input_layer.name, input_layer.dtype)\n",
        "print(hidden_layer.name, hidden_layer.dtype)\n",
        "print(output_layer.name, output_layer.dtype)"
      ]
    },
    {
      "cell_type": "code",
      "source": [
        "print(model.layers[0].name)\n",
        "print(model.layers[1].name)\n",
        "print(model.layers[2].name)"
      ],
      "metadata": {
        "colab": {
          "base_uri": "https://localhost:8080/",
          "height": 250
        },
        "id": "1wEEznfOF_Vo",
        "outputId": "da5f0621-38ab-473c-c0a1-cda59f3dc348"
      },
      "execution_count": 6,
      "outputs": [
        {
          "output_type": "stream",
          "name": "stdout",
          "text": [
            "dense_2\n",
            "dense_3\n"
          ]
        },
        {
          "output_type": "error",
          "ename": "IndexError",
          "evalue": "ignored",
          "traceback": [
            "\u001b[0;31m---------------------------------------------------------------------------\u001b[0m",
            "\u001b[0;31mIndexError\u001b[0m                                Traceback (most recent call last)",
            "\u001b[0;32m<ipython-input-6-25e36caa5cf3>\u001b[0m in \u001b[0;36m<module>\u001b[0;34m()\u001b[0m\n\u001b[1;32m      1\u001b[0m \u001b[0mprint\u001b[0m\u001b[0;34m(\u001b[0m\u001b[0mmodel\u001b[0m\u001b[0;34m.\u001b[0m\u001b[0mlayers\u001b[0m\u001b[0;34m[\u001b[0m\u001b[0;36m0\u001b[0m\u001b[0;34m]\u001b[0m\u001b[0;34m.\u001b[0m\u001b[0mname\u001b[0m\u001b[0;34m)\u001b[0m\u001b[0;34m\u001b[0m\u001b[0;34m\u001b[0m\u001b[0m\n\u001b[1;32m      2\u001b[0m \u001b[0mprint\u001b[0m\u001b[0;34m(\u001b[0m\u001b[0mmodel\u001b[0m\u001b[0;34m.\u001b[0m\u001b[0mlayers\u001b[0m\u001b[0;34m[\u001b[0m\u001b[0;36m1\u001b[0m\u001b[0;34m]\u001b[0m\u001b[0;34m.\u001b[0m\u001b[0mname\u001b[0m\u001b[0;34m)\u001b[0m\u001b[0;34m\u001b[0m\u001b[0;34m\u001b[0m\u001b[0m\n\u001b[0;32m----> 3\u001b[0;31m \u001b[0mprint\u001b[0m\u001b[0;34m(\u001b[0m\u001b[0mmodel\u001b[0m\u001b[0;34m.\u001b[0m\u001b[0mlayers\u001b[0m\u001b[0;34m[\u001b[0m\u001b[0;36m2\u001b[0m\u001b[0;34m]\u001b[0m\u001b[0;34m.\u001b[0m\u001b[0mname\u001b[0m\u001b[0;34m)\u001b[0m\u001b[0;34m\u001b[0m\u001b[0;34m\u001b[0m\u001b[0m\n\u001b[0m",
            "\u001b[0;31mIndexError\u001b[0m: list index out of range"
          ]
        }
      ]
    },
    {
      "cell_type": "code",
      "source": [
        "print(input_layer.input)\n",
        "print(input_layer.output)\n",
        "\n",
        "print(hidden_layer.input)\n",
        "print(hidden_layer.output)\n",
        "\n",
        "print(hidden_layer.input.shape)\n",
        "print(hidden_layer.output.shape)\n",
        "\n",
        "print(output_layer.input)\n",
        "print(output_layer.output)"
      ],
      "metadata": {
        "colab": {
          "base_uri": "https://localhost:8080/"
        },
        "id": "_EQ9mup4GfCT",
        "outputId": "f3a36781-588f-4462-e905-f484069013cf"
      },
      "execution_count": 8,
      "outputs": [
        {
          "output_type": "stream",
          "name": "stdout",
          "text": [
            "KerasTensor(type_spec=TensorSpec(shape=(None, 3), dtype=tf.float32, name='input_2'), name='input_2', description=\"created by layer 'input_2'\")\n",
            "KerasTensor(type_spec=TensorSpec(shape=(None, 3), dtype=tf.float32, name='input_2'), name='input_2', description=\"created by layer 'input_2'\")\n",
            "KerasTensor(type_spec=TensorSpec(shape=(None, 3), dtype=tf.float32, name='input_2'), name='input_2', description=\"created by layer 'input_2'\")\n",
            "KerasTensor(type_spec=TensorSpec(shape=(None, 4), dtype=tf.float32, name=None), name='dense_2/Relu:0', description=\"created by layer 'dense_2'\")\n",
            "(None, 3)\n",
            "(None, 4)\n",
            "KerasTensor(type_spec=TensorSpec(shape=(None, 4), dtype=tf.float32, name=None), name='dense_2/Relu:0', description=\"created by layer 'dense_2'\")\n",
            "KerasTensor(type_spec=TensorSpec(shape=(None, 2), dtype=tf.float32, name=None), name='dense_3/Softmax:0', description=\"created by layer 'dense_3'\")\n"
          ]
        }
      ]
    },
    {
      "cell_type": "code",
      "source": [
        "print(hidden_layer.activation)\n",
        "print(hidden_layer.activation.__name__)\n",
        "print(output_layer.activation)\n",
        "print(output_layer.activation.__name__)"
      ],
      "metadata": {
        "colab": {
          "base_uri": "https://localhost:8080/"
        },
        "id": "4MfEMNdvHLry",
        "outputId": "800187f9-2956-4836-96b4-891ccb1f75b7"
      },
      "execution_count": 9,
      "outputs": [
        {
          "output_type": "stream",
          "name": "stdout",
          "text": [
            "<function relu at 0x7fe44e8829e0>\n",
            "relu\n",
            "<function softmax at 0x7fe44e87ef80>\n",
            "softmax\n"
          ]
        }
      ]
    },
    {
      "cell_type": "code",
      "source": [
        "print(hidden_layer.weights)\n",
        "print(output_layer.weights)"
      ],
      "metadata": {
        "colab": {
          "base_uri": "https://localhost:8080/"
        },
        "id": "DrAgiy_QHOdQ",
        "outputId": "a298416f-2ac4-47c8-999c-e55db6027688"
      },
      "execution_count": 10,
      "outputs": [
        {
          "output_type": "stream",
          "name": "stdout",
          "text": [
            "[<tf.Variable 'dense_2/kernel:0' shape=(3, 4) dtype=float32, numpy=\n",
            "array([[-0.3851872 , -0.54333335,  0.0655309 ,  0.1134268 ],\n",
            "       [-0.15428883,  0.5699866 , -0.01254469,  0.9223561 ],\n",
            "       [ 0.36428273, -0.6936733 ,  0.38850498,  0.30073535]],\n",
            "      dtype=float32)>, <tf.Variable 'dense_2/bias:0' shape=(4,) dtype=float32, numpy=array([0., 0., 0., 0.], dtype=float32)>]\n",
            "[<tf.Variable 'dense_3/kernel:0' shape=(4, 2) dtype=float32, numpy=\n",
            "array([[ 0.11082816, -0.55741405],\n",
            "       [ 0.7298498 ,  0.5545671 ],\n",
            "       [ 0.29023337,  0.0607245 ],\n",
            "       [-0.971118  ,  0.74701834]], dtype=float32)>, <tf.Variable 'dense_3/bias:0' shape=(2,) dtype=float32, numpy=array([0., 0.], dtype=float32)>]\n"
          ]
        }
      ]
    }
  ]
}