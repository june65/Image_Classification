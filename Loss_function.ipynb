{
  "nbformat": 4,
  "nbformat_minor": 0,
  "metadata": {
    "colab": {
      "name": "Loss function",
      "provenance": [],
      "authorship_tag": "ABX9TyOyy5plLo+aDEZGPKljFLEH",
      "include_colab_link": true
    },
    "kernelspec": {
      "name": "python3",
      "display_name": "Python 3"
    },
    "language_info": {
      "name": "python"
    }
  },
  "cells": [
    {
      "cell_type": "markdown",
      "metadata": {
        "id": "view-in-github",
        "colab_type": "text"
      },
      "source": [
        "<a href=\"https://colab.research.google.com/github/june65/Image_Classification/blob/main/Loss_function.ipynb\" target=\"_parent\"><img src=\"https://colab.research.google.com/assets/colab-badge.svg\" alt=\"Open In Colab\"/></a>"
      ]
    },
    {
      "cell_type": "code",
      "execution_count": null,
      "metadata": {
        "id": "LZWxMIJT9md_"
      },
      "outputs": [],
      "source": [
        "import tensorflow as tf\n",
        "from tensorflow import keras\n",
        "import numpy as np\n",
        "\n",
        "model = keras.Sequential([keras.layers.Dense(units=3, input_shape=[1])])"
      ]
    },
    {
      "cell_type": "code",
      "source": [
        "model.compile(loss='mse')"
      ],
      "metadata": {
        "id": "NiTxbxL19ujO"
      },
      "execution_count": null,
      "outputs": []
    },
    {
      "cell_type": "code",
      "source": [
        "pred = model.predict([0])\n",
        "print(pred)"
      ],
      "metadata": {
        "id": "IC4n3NMS9xrt",
        "outputId": "4d2ca936-ab9c-47cb-ed2f-ea361a1fd228",
        "colab": {
          "base_uri": "https://localhost:8080/"
        }
      },
      "execution_count": null,
      "outputs": [
        {
          "output_type": "stream",
          "name": "stdout",
          "text": [
            "[[0. 0. 0.]]\n"
          ]
        }
      ]
    },
    {
      "cell_type": "code",
      "source": [
        "model.evaluate([0], [[0, 1, 0]])"
      ],
      "metadata": {
        "id": "RY2FY-2h9z2-",
        "outputId": "9ae0785e-fc38-4733-a191-78868b6afb68",
        "colab": {
          "base_uri": "https://localhost:8080/"
        }
      },
      "execution_count": null,
      "outputs": [
        {
          "output_type": "stream",
          "name": "stdout",
          "text": [
            "1/1 [==============================] - 0s 170ms/step - loss: 0.3333\n"
          ]
        },
        {
          "output_type": "execute_result",
          "data": {
            "text/plain": [
              "0.3333333432674408"
            ]
          },
          "metadata": {},
          "execution_count": 4
        }
      ]
    }
  ]
}