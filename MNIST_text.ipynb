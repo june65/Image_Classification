{
  "nbformat": 4,
  "nbformat_minor": 0,
  "metadata": {
    "colab": {
      "name": "MNIST_text.ipynb",
      "provenance": [],
      "collapsed_sections": [],
      "authorship_tag": "ABX9TyMXdM5XL4e6ZfQb5BEqlejk",
      "include_colab_link": true
    },
    "kernelspec": {
      "name": "python3",
      "display_name": "Python 3"
    },
    "language_info": {
      "name": "python"
    }
  },
  "cells": [
    {
      "cell_type": "markdown",
      "metadata": {
        "id": "view-in-github",
        "colab_type": "text"
      },
      "source": [
        "<a href=\"https://colab.research.google.com/github/june65/Image_Classification/blob/main/MNIST_text.ipynb\" target=\"_parent\"><img src=\"https://colab.research.google.com/assets/colab-badge.svg\" alt=\"Open In Colab\"/></a>"
      ]
    },
    {
      "cell_type": "code",
      "execution_count": null,
      "metadata": {
        "colab": {
          "base_uri": "https://localhost:8080/"
        },
        "id": "8sNKiT4kL_3z",
        "outputId": "7f997eee-ebf2-4216-f6b4-851a7f8c4daf"
      },
      "outputs": [
        {
          "output_type": "stream",
          "name": "stdout",
          "text": [
            "Epoch 1/10\n",
            "1875/1875 [==============================] - 6s 3ms/step - loss: 0.2275 - accuracy: 0.9347\n",
            "Epoch 2/10\n",
            "1875/1875 [==============================] - 6s 3ms/step - loss: 0.0927 - accuracy: 0.9718\n",
            "Epoch 3/10\n",
            "1875/1875 [==============================] - 6s 3ms/step - loss: 0.0610 - accuracy: 0.9816\n",
            "Epoch 4/10\n",
            "1875/1875 [==============================] - 7s 4ms/step - loss: 0.0439 - accuracy: 0.9865\n",
            "Epoch 5/10\n",
            "1875/1875 [==============================] - 6s 3ms/step - loss: 0.0331 - accuracy: 0.9898\n",
            "Epoch 6/10\n",
            "1875/1875 [==============================] - 6s 3ms/step - loss: 0.0254 - accuracy: 0.9924\n",
            "Epoch 7/10\n",
            "1875/1875 [==============================] - 6s 3ms/step - loss: 0.0195 - accuracy: 0.9938\n",
            "Epoch 8/10\n",
            "1875/1875 [==============================] - 6s 3ms/step - loss: 0.0153 - accuracy: 0.9953\n",
            "Epoch 9/10\n",
            "1875/1875 [==============================] - 6s 3ms/step - loss: 0.0121 - accuracy: 0.9961\n",
            "Epoch 10/10\n",
            "1875/1875 [==============================] - 6s 3ms/step - loss: 0.0106 - accuracy: 0.9966\n",
            "313/313 [==============================] - 1s 2ms/step - loss: 0.0801 - accuracy: 0.9802\n",
            "테스트 정확도: 0.9801999926567078\n"
          ]
        }
      ],
      "source": [
        "import tensorflow as tf\n",
        "\n",
        "# 1. MNIST 데이터셋 임포트\n",
        "mnist = tf.keras.datasets.mnist\n",
        "(x_train, y_train), (x_test, y_test) = mnist.load_data()\n",
        "\n",
        "# 2. 데이터 전처리\n",
        "x_train, x_test = x_train/255.0, x_test/255.0\n",
        "\n",
        "# 3. 모델 구성\n",
        "model = tf.keras.models.Sequential([\n",
        "    tf.keras.layers.Flatten(input_shape=(28, 28)),\n",
        "    tf.keras.layers.Dense(256, activation=tf.nn.relu),\n",
        "    tf.keras.layers.Dense(10, activation=tf.nn.softmax)\n",
        "])\n",
        "\n",
        "# 4. 모델 컴파일\n",
        "model.compile(optimizer='adam',\n",
        "              loss='sparse_categorical_crossentropy',\n",
        "              metrics=['accuracy'])\n",
        "\n",
        "# 5. 모델 훈련\n",
        "model.fit(x_train, y_train, epochs=10)\n",
        "\n",
        "# 6. 정확도 평가\n",
        "test_loss, test_acc = model.evaluate(x_test, y_test)\n",
        "print('테스트 정확도:', test_acc)"
      ]
    },
    {
      "cell_type": "code",
      "source": [
        "loss, accuracy = [], []\n",
        "for i in range(10):\n",
        "    model.fit(x_train, y_train, epochs=1)\n",
        "    loss.append(model.evaluate(x_test, y_test)[0])\n",
        "    accuracy.append(model.evaluate(x_test, y_test)[1])\n",
        "\n",
        "print(accuracy)"
      ],
      "metadata": {
        "colab": {
          "base_uri": "https://localhost:8080/"
        },
        "id": "Z9gYuQhNNWuJ",
        "outputId": "f4e85fe8-9f3a-4a23-d1d5-c37a5fc4be75"
      },
      "execution_count": null,
      "outputs": [
        {
          "output_type": "stream",
          "name": "stdout",
          "text": [
            "1875/1875 [==============================] - 6s 3ms/step - loss: 0.0109 - accuracy: 0.9964\n",
            "313/313 [==============================] - 1s 2ms/step - loss: 0.0771 - accuracy: 0.9794\n",
            "313/313 [==============================] - 1s 2ms/step - loss: 0.0771 - accuracy: 0.9794\n",
            "1875/1875 [==============================] - 6s 3ms/step - loss: 0.0082 - accuracy: 0.9973\n",
            "313/313 [==============================] - 1s 2ms/step - loss: 0.0886 - accuracy: 0.9790\n",
            "313/313 [==============================] - 1s 2ms/step - loss: 0.0886 - accuracy: 0.9790\n",
            "1875/1875 [==============================] - 6s 3ms/step - loss: 0.0069 - accuracy: 0.9977\n",
            "313/313 [==============================] - 1s 2ms/step - loss: 0.0825 - accuracy: 0.9825\n",
            "313/313 [==============================] - 1s 2ms/step - loss: 0.0825 - accuracy: 0.9825\n",
            "1875/1875 [==============================] - 6s 3ms/step - loss: 0.0080 - accuracy: 0.9975\n",
            "313/313 [==============================] - 1s 2ms/step - loss: 0.0849 - accuracy: 0.9818\n",
            "313/313 [==============================] - 1s 2ms/step - loss: 0.0849 - accuracy: 0.9818\n",
            "1875/1875 [==============================] - 6s 3ms/step - loss: 0.0073 - accuracy: 0.9974\n",
            "313/313 [==============================] - 1s 2ms/step - loss: 0.0917 - accuracy: 0.9807\n",
            "313/313 [==============================] - 1s 2ms/step - loss: 0.0917 - accuracy: 0.9807\n",
            "1875/1875 [==============================] - 5s 3ms/step - loss: 0.0060 - accuracy: 0.9981\n",
            "313/313 [==============================] - 1s 2ms/step - loss: 0.0933 - accuracy: 0.9800\n",
            "313/313 [==============================] - 1s 2ms/step - loss: 0.0933 - accuracy: 0.9800\n",
            "1875/1875 [==============================] - 6s 3ms/step - loss: 0.0061 - accuracy: 0.9980\n",
            "313/313 [==============================] - 1s 2ms/step - loss: 0.0978 - accuracy: 0.9810\n",
            "313/313 [==============================] - 1s 2ms/step - loss: 0.0978 - accuracy: 0.9810\n",
            "1875/1875 [==============================] - 5s 3ms/step - loss: 0.0039 - accuracy: 0.9988\n",
            "313/313 [==============================] - 1s 2ms/step - loss: 0.1223 - accuracy: 0.9767\n",
            "313/313 [==============================] - 1s 2ms/step - loss: 0.1223 - accuracy: 0.9767\n",
            "1875/1875 [==============================] - 6s 3ms/step - loss: 0.0052 - accuracy: 0.9983\n",
            "313/313 [==============================] - 1s 2ms/step - loss: 0.1059 - accuracy: 0.9819\n",
            "313/313 [==============================] - 1s 2ms/step - loss: 0.1059 - accuracy: 0.9819\n",
            "1875/1875 [==============================] - 6s 3ms/step - loss: 0.0035 - accuracy: 0.9990\n",
            "313/313 [==============================] - 1s 2ms/step - loss: 0.0999 - accuracy: 0.9820\n",
            "313/313 [==============================] - 1s 2ms/step - loss: 0.0999 - accuracy: 0.9820\n",
            "[0.9793999791145325, 0.9789999723434448, 0.9825000166893005, 0.9818000197410583, 0.9807000160217285, 0.9800000190734863, 0.9810000061988831, 0.9767000079154968, 0.9818999767303467, 0.9819999933242798]\n"
          ]
        }
      ]
    }
  ]
}